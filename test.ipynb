{
 "cells": [
  {
   "cell_type": "code",
   "execution_count": 2,
   "metadata": {},
   "outputs": [],
   "source": [
    "import time\n",
    "import random\n",
    "import numpy as np\n",
    "import pandas as pd\n",
    "\n",
    "def creating_distribution(filename):\n",
    "    start_time = time.time()\n",
    "    d = {}\n",
    "    count = 0\n",
    "    with open(filename, 'r') as file:\n",
    "        curr_date = None \n",
    "        for line in file:\n",
    "            if line[0] == 'Q':\n",
    "                count += 1\n",
    "                phrase = line.split('Q')[1].lstrip()\n",
    "                if phrase in d:\n",
    "                    d[phrase] += 1\n",
    "                else:\n",
    "                    d[phrase] = 1\n",
    "    print(\"--- %s seconds ---\" % (time.time() - start_time), count)\n",
    "    return d, count"
   ]
  },
  {
   "cell_type": "code",
   "execution_count": 4,
   "metadata": {},
   "outputs": [
    {
     "name": "stdout",
     "output_type": "stream",
     "text": [
      "--- 22.33552312850952 seconds --- 16687293\n",
      "--- 22.839044094085693 seconds --- 16099314\n"
     ]
    }
   ],
   "source": [
    "# d_2009_04, num_phrases_2009_04 = creating_distribution('/storage/linx3/projects/meme_data/quotes_2009-04.txt')\n",
    "# d_2009_03, num_phrases_2009_03 = creating_distribution('/storage/linx3/projects/meme_data/quotes_2009-03.txt')\n",
    "# d_2009_02, num_phrases_2009_02 = creating_distribution('/storage/linx3/projects/meme_data/quotes_2009-02.txt')\n",
    "# d_2009_01, num_phrases_2009_01 = creating_distribution('/storage/linx3/projects/meme_data/quotes_2009-01.txt')\n",
    "d_2008_12, num_phrases_2008_12 = creating_distribution('/storage/linx3/projects/meme_data/quotes_2008-12.txt')\n",
    "d_2008_11, num_phrases_2008_11 = creating_distribution('/storage/linx3/projects/meme_data/quotes_2008-11.txt')\n",
    "# d_2008_10, num_phrases_2008_10 = creating_distribution('/storage/linx3/projects/meme_data/quotes_2008-10.txt')\n",
    "# d_2008_09, num_phrases_2008_09 = creating_distribution('/storage/linx3/projects/meme_data/quotes_2008-09.txt')\n",
    "# d_2008_08, num_phrases_2008_08 = creating_distribution('/storage/linx3/projects/meme_data/quotes_2008-08.txt')"
   ]
  },
  {
   "cell_type": "code",
   "execution_count": 5,
   "metadata": {},
   "outputs": [],
   "source": [
    "def lp_norm(d, p):\n",
    "    s = 0\n",
    "    for i in d:\n",
    "        s += abs(d[i])**p\n",
    "    return s**(1/p)\n",
    "\n",
    "def lp_distance(d1, d2, p):\n",
    "    s = 0\n",
    "    for i in d1:\n",
    "        if i in d2:\n",
    "            s += abs(d1[i]-d2[i])**p\n",
    "        else:\n",
    "            s += abs(d1[i])**p\n",
    "    for i in d2:\n",
    "        if i not in d1:\n",
    "            s += abs(d2[i])**p\n",
    "    return s**(1/p)\n",
    "\n",
    "def list_to_distribution(arr):\n",
    "    d = {} # maps from word to count\n",
    "    for word in arr:\n",
    "        if word in d:\n",
    "            d[word]+=1\n",
    "        else:\n",
    "            d[word]=1\n",
    "    return d\n",
    "\n",
    "def namestr(obj, namespace=globals()):\n",
    "    return [name for name in namespace if namespace[name] is obj][0]"
   ]
  },
  {
   "cell_type": "code",
   "execution_count": 6,
   "metadata": {},
   "outputs": [],
   "source": [
    "def l2_norm_estimate(d_p_full, d_q_full, fraction=2500, c=1):\n",
    "    ### processing distributions\n",
    "    d_p_multiple = {key:val for key, val in d_p_full.items() if val > 1}\n",
    "    d_q_multiple = {key:val for key, val in d_q_full.items() if val > 1}\n",
    "    p_total = sum(d_p_multiple.values())\n",
    "    q_total = sum(d_q_multiple.values())\n",
    "\n",
    "    d_p = {key:val/p_total for key, val in d_p_multiple.items()}\n",
    "    d_q = {key:val/q_total for key, val in d_q_multiple.items()}\n",
    "    \n",
    "    \n",
    "    ### setting error and sample parameters\n",
    "    d_p_l2norm = lp_norm(d_p, 2)\n",
    "    d_q_l2norm = lp_norm(d_q, 2)\n",
    "    b = max(d_p_l2norm**2, d_q_l2norm**2)\n",
    "\n",
    "    pq_l4norm = lp_distance(d_p, d_q, 4)\n",
    "    pq_l1norm = lp_distance(d_p, d_q, 1)\n",
    "    e = pq_l1norm*c  # set e to be a factor of l1 distance\n",
    "    m = (b**0.5*pq_l4norm**2/e**4 + b**0.5/e**2)  # set m to be a constant factor\n",
    "    print(\"old m is: \", m)\n",
    "    \n",
    "    avg_size = (p_total + q_total)//2\n",
    "    c = avg_size/(m*fraction)\n",
    "    m *= c\n",
    "    print(\"new m is: \", m)\n",
    "  \n",
    "    \n",
    "    ### sampling from distributions\n",
    "    s = np.random.poisson(lam=m)\n",
    "    S_p = random.choices(list(d_p.keys()), weights=d_p.values(), k=s)\n",
    "    S_q = random.choices(list(d_q.keys()), weights=d_q.values(), k=s)\n",
    "\n",
    "    S_p_d = list_to_distribution(S_p)\n",
    "    S_q_d = list_to_distribution(S_q)\n",
    "\n",
    "    \n",
    "    ### calculating Z stat\n",
    "    Z = 0\n",
    "    for i in S_p_d:\n",
    "        if i in S_q_d:\n",
    "            Z += (S_p_d[i]-S_q_d[i])**2-S_p_d[i]-S_q_d[i]\n",
    "        else:\n",
    "            Z += S_p_d[i]**2-S_p_d[i]\n",
    "\n",
    "    for i in S_q_d:\n",
    "        if i not in S_p_d:\n",
    "            Z += S_q_d[i]**2-S_q_d[i]\n",
    "            \n",
    "    \n",
    "    ### output compare values\n",
    "    d_p_l2norm = lp_distance(d_p, d_q, 2)\n",
    "    return (Z/(m**2), d_p_l2norm**2, e**2, m)"
   ]
  },
  {
   "cell_type": "code",
   "execution_count": 3,
   "metadata": {},
   "outputs": [
    {
     "ename": "NameError",
     "evalue": "name 'd_2008_08' is not defined",
     "output_type": "error",
     "traceback": [
      "\u001b[0;31m---------------------------------------------------------------------------\u001b[0m",
      "\u001b[0;31mNameError\u001b[0m                                 Traceback (most recent call last)",
      "\u001b[0;32m<ipython-input-3-a91cfd61a38c>\u001b[0m in \u001b[0;36m<module>\u001b[0;34m\u001b[0m\n\u001b[0;32m----> 1\u001b[0;31m \u001b[0md_p_full\u001b[0m \u001b[0;34m=\u001b[0m \u001b[0md_2008_08\u001b[0m\u001b[0;34m\u001b[0m\u001b[0;34m\u001b[0m\u001b[0m\n\u001b[0m\u001b[1;32m      2\u001b[0m \u001b[0md_q_full\u001b[0m \u001b[0;34m=\u001b[0m \u001b[0md_2008_09\u001b[0m\u001b[0;34m\u001b[0m\u001b[0;34m\u001b[0m\u001b[0m\n\u001b[1;32m      3\u001b[0m \u001b[0mresults\u001b[0m \u001b[0;34m=\u001b[0m \u001b[0;34m[\u001b[0m\u001b[0;34m]\u001b[0m\u001b[0;34m\u001b[0m\u001b[0;34m\u001b[0m\u001b[0m\n\u001b[1;32m      4\u001b[0m \u001b[0;31m# frac = [100, 250, 750, 1000, 2500, 10000, 25000, 75000, 100000]\u001b[0m\u001b[0;34m\u001b[0m\u001b[0;34m\u001b[0m\u001b[0;34m\u001b[0m\u001b[0m\n\u001b[1;32m      5\u001b[0m \u001b[0;31m# frac.reverse()\u001b[0m\u001b[0;34m\u001b[0m\u001b[0;34m\u001b[0m\u001b[0;34m\u001b[0m\u001b[0m\n",
      "\u001b[0;31mNameError\u001b[0m: name 'd_2008_08' is not defined"
     ]
    }
   ],
   "source": [
    "d_p_full = d_2008_08\n",
    "d_q_full = d_2008_09\n",
    "results = []\n",
    "# frac = [100, 250, 750, 1000, 2500, 10000, 25000, 75000, 100000]\n",
    "# frac.reverse()\n",
    "frac = [10**-10, 10**-9, 10**-8, 10**-7, 10**-6, 10**-5, 10**-4, 10**-3, 10**-2, 10**-1]\n",
    "results = []\n",
    "for i in frac:\n",
    "    count = 0\n",
    "    for i in range(50):\n",
    "        a,b,c,d = l2_norm_estimate(d_p_full, d_q_full, c=i)\n",
    "        if abs(a-b)<c:\n",
    "            count+=1\n",
    "    results.append(i, count/50, a, b, c, d)\n",
    "    print(i, count/50)\n",
    "#     print(a,b,c,d)\n",
    "#     results.append([a,b,c,d])"
   ]
  },
  {
   "cell_type": "code",
   "execution_count": 158,
   "metadata": {},
   "outputs": [
    {
     "name": "stdout",
     "output_type": "stream",
     "text": [
      "      Z/m^2  l2_norm^2       e^2  num samples    difference  log_samples\n",
      "0  0.000140   0.000038  2.777676          119  1.022774e-04     2.075547\n",
      "1 -0.000079   0.000038  2.777676          159  1.162205e-04     2.201397\n",
      "2  0.000044   0.000038  2.777676          478  6.138337e-06     2.679428\n",
      "3  0.000045   0.000038  2.777676         1195  7.187127e-06     3.077368\n",
      "4  0.000039   0.000038  2.777676         4783  1.156585e-06     3.679700\n",
      "5  0.000040   0.000038  2.777676        11959  2.097000e-06     4.077695\n",
      "6  0.000043   0.000038  2.777676        15945  5.370973e-06     4.202625\n",
      "7  0.000036   0.000038  2.777676        47836  1.546671e-06     4.679755\n",
      "8  0.000037   0.000038  2.777676       119591  8.700010e-08     5.077698\n"
     ]
    },
    {
     "data": {
      "text/plain": [
       "[<matplotlib.lines.Line2D at 0x7f103d93b9a0>]"
      ]
     },
     "execution_count": 158,
     "metadata": {},
     "output_type": "execute_result"
    },
    {
     "data": {
      "image/png": "[encoded data removed]",
      "text/plain": [
       "<Figure size 432x288 with 1 Axes>"
      ]
     },
     "metadata": {},
     "output_type": "display_data"
    }
   ],
   "source": [
    "column_names = ['Z/m^2', 'l2_norm^2', 'e^2', 'num samples']\n",
    "df = pd.DataFrame(results, columns=column_names)\n",
    "df['difference'] = (df['Z/m^2'] - df['l2_norm^2']).abs()\n",
    "df['num samples'] = df['num samples'].astype(int)\n",
    "df['log_samples'] = np.log10(df['num samples'])\n",
    "print(df)\n",
    "\n",
    "import matplotlib.pyplot as plt\n",
    "# fig = plt.figure()\n",
    "plt.title('Estimate Difference vs. samples')\n",
    "plt.xlabel('number of samples')\n",
    "plt.ylabel('|Z/m^2 - l2_distance^2|')\n",
    "plt.style.use('seaborn-whitegrid')\n",
    "plt.plot(list(df['num samples']), list(df['difference']))"
   ]
  },
  {
   "cell_type": "code",
   "execution_count": null,
   "metadata": {},
   "outputs": [],
   "source": [
    "# check different values of epsilon for 2009_02 vs 2009_03\n",
    "\n"
   ]
  },
  {
   "cell_type": "code",
   "execution_count": 130,
   "metadata": {},
   "outputs": [
    {
     "name": "stdout",
     "output_type": "stream",
     "text": [
      "old m is:  0.0016075217908926016\n",
      "new m is:  288243.51\n",
      "1.2109143905843852e-05 1.1879927181132028e-05 2.8090473149380366\n",
      "old m is:  0.001618718695453363\n",
      "new m is:  241876.90999999997\n",
      "1.291098599146802e-05 1.2673654922148606e-05 2.7896165885891566\n",
      "old m is:  0.0016336480350448222\n",
      "new m is:  168493.39\n",
      "2.247853099064514e-05 2.265890534633373e-05 3.033830735331607\n",
      "old m is:  0.002092493127613953\n",
      "new m is:  116208.87\n",
      "2.0535374866247553e-05 2.0699961822194534e-05 2.787163384882529\n",
      "old m is:  0.0020754541193632237\n",
      "new m is:  111533.28\n",
      "2.3186301640762377e-05 2.4012039055806142e-05 2.810045136207954\n",
      "old m is:  0.001996936976675037\n",
      "new m is:  116966.34\n",
      "2.619156012688461e-05 2.570164907249641e-05 2.8474748050215384\n",
      "old m is:  0.002196739546606036\n",
      "new m is:  125700.48999999999\n",
      "3.421664676095088e-05 3.339045564467001e-05 2.8233628508706783\n",
      "old m is:  0.002232871809493749\n",
      "new m is:  119591.79000000001\n",
      "3.7920749448077764e-05 3.756124469949914e-05 2.7776763650192997\n",
      "[['d_2009_04', 'd_2009_03', 1.2109143905843852e-05, 1.1879927181132028e-05, 2.8090473149380366], ['d_2009_03', 'd_2009_02', 1.291098599146802e-05, 1.2673654922148606e-05, 2.7896165885891566], ['d_2009_02', 'd_2009_01', 2.247853099064514e-05, 2.265890534633373e-05, 3.033830735331607], ['d_2009_01', 'd_2008_12', 2.0535374866247553e-05, 2.0699961822194534e-05, 2.787163384882529], ['d_2008_12', 'd_2008_11', 2.3186301640762377e-05, 2.4012039055806142e-05, 2.810045136207954], ['d_2008_11', 'd_2008_10', 2.619156012688461e-05, 2.570164907249641e-05, 2.8474748050215384], ['d_2008_10', 'd_2008_09', 3.421664676095088e-05, 3.339045564467001e-05, 2.8233628508706783], ['d_2008_09', 'd_2008_08', 3.7920749448077764e-05, 3.756124469949914e-05, 2.7776763650192997]]\n"
     ]
    }
   ],
   "source": [
    "data = [d_2009_04, d_2009_03, d_2009_02, d_2009_01, d_2008_12, d_2008_11, d_2008_10, d_2008_09, d_2008_08]\n",
    "results = []\n",
    "for i in range(len(data)-1):\n",
    "    estimated_l2_norm_squared, actual_l2_norm_squared, e_squared = l2_norm_estimate(data[i], data[i+1])\n",
    "    print(estimated_l2_norm_squared, actual_l2_norm_squared, e_squared)\n",
    "    results.append([namestr(data[i]), namestr(data[i+1]), estimated_l2_norm_squared, actual_l2_norm_squared, e_squared])\n",
    "print(results)"
   ]
  },
  {
   "cell_type": "code",
   "execution_count": 131,
   "metadata": {},
   "outputs": [
    {
     "name": "stdout",
     "output_type": "stream",
     "text": [
      "      month1     month2      Z/m^2  l2_norm^2        e^2\n",
      "0  d_2009_04  d_2009_03  1.210e-05  1.187e-05  2.809e-05\n",
      "1  d_2009_03  d_2009_02  1.291e-05  1.267e-05  2.789e-05\n",
      "2  d_2009_02  d_2009_01  2.247e-05  2.265e-05  3.033e-05\n",
      "3  d_2009_01  d_2008_12  2.053e-05  2.069e-05  2.787e-05\n",
      "4  d_2008_12  d_2008_11  2.318e-05  2.401e-05  2.810e-05\n",
      "5  d_2008_11  d_2008_10  2.619e-05  2.570e-05  2.847e-05\n",
      "6  d_2008_10  d_2008_09  3.421e-05  3.339e-05  2.823e-05\n",
      "7  d_2008_09  d_2008_08  3.792e-05  3.756e-05  2.777e-05\n"
     ]
    }
   ],
   "source": [
    "for i in range(len(results)):\n",
    "    for j in range(len(results[0])):\n",
    "        val = str(results[i][j])\n",
    "        if j>1:\n",
    "            results[i][j] = val[:5]+'e-05'\n",
    "column_names = ['month1', 'month2', 'Z/m^2', 'l2_norm^2', 'e^2']\n",
    "df = pd.DataFrame(results, columns=column_names)\n",
    "print(df)"
   ]
  },
  {
   "cell_type": "code",
   "execution_count": 128,
   "metadata": {},
   "outputs": [
    {
     "name": "stdout",
     "output_type": "stream",
     "text": [
      "old m is:  0.0012290336098965216\n",
      "new m is:  266180.26\n",
      "1.1127487860188474e-05 1.117346582238498e-05 3.0196365220554187\n",
      "old m is:  0.001486393292419122\n",
      "new m is:  190556.64\n",
      "3.453375648481544e-05 3.476408931648652e-05 3.3343902021314733\n",
      "old m is:  0.0017972108109028011\n",
      "new m is:  167529.13999999998\n",
      "3.662586521241829e-05 3.557513166211156e-05 3.2451004907622596\n",
      "old m is:  0.0016929512652262434\n",
      "new m is:  112497.52\n",
      "2.705501997311572e-05 2.7702843541189245e-05 3.1130144940047733\n",
      "old m is:  0.0018743191109743236\n",
      "new m is:  120677.68999999999\n",
      "3.1554122853587055e-05 3.168255642519473e-05 3.1115942540969677\n",
      "old m is:  0.0020079454589661096\n",
      "new m is:  116556.06999999999\n",
      "3.5205507830414255e-05 3.637626144427983e-05 3.0888237721185114\n",
      "old m is:  0.0019281143764288363\n",
      "new m is:  120002.06\n",
      "3.38591152715087e-05 3.5682000787009e-05 3.062876337239628\n",
      "[['d_2009_04', 'd_2009_02', 1.1127487860188474e-05, 1.117346582238498e-05, 3.0196365220554187], ['d_2009_03', 'd_2009_01', 3.453375648481544e-05, 3.476408931648652e-05, 3.3343902021314733], ['d_2009_02', 'd_2008_12', 3.662586521241829e-05, 3.557513166211156e-05, 3.2451004907622596], ['d_2009_01', 'd_2008_11', 2.705501997311572e-05, 2.7702843541189245e-05, 3.1130144940047733], ['d_2008_12', 'd_2008_10', 3.1554122853587055e-05, 3.168255642519473e-05, 3.1115942540969677], ['d_2008_11', 'd_2008_09', 3.5205507830414255e-05, 3.637626144427983e-05, 3.0888237721185114], ['d_2008_10', 'd_2008_08', 3.38591152715087e-05, 3.5682000787009e-05, 3.062876337239628]]\n"
     ]
    }
   ],
   "source": [
    "data = [d_2009_04, d_2009_03, d_2009_02, d_2009_01, d_2008_12, d_2008_11, d_2008_10, d_2008_09, d_2008_08]\n",
    "results = []\n",
    "for i in range(len(data)-4):\n",
    "    estimated_l2_norm_squared, actual_l2_norm_squared, e_squared = l2_norm_estimate(data[i], data[i+4])\n",
    "    print(estimated_l2_norm_squared, actual_l2_norm_squared, e_squared)\n",
    "    results.append([namestr(data[i]), namestr(data[i+4]), estimated_l2_norm_squared, actual_l2_norm_squared, e_squared])\n",
    "print(results)"
   ]
  },
  {
   "cell_type": "code",
   "execution_count": 129,
   "metadata": {},
   "outputs": [
    {
     "name": "stdout",
     "output_type": "stream",
     "text": [
      "      month1     month2      Z/m^2  l2_norm^2        e^2\n",
      "0  d_2009_04  d_2009_02  1.112e-05  1.117e-05  3.019e-05\n",
      "1  d_2009_03  d_2009_01  3.453e-05  3.476e-05  3.334e-05\n",
      "2  d_2009_02  d_2008_12  3.662e-05  3.557e-05  3.245e-05\n",
      "3  d_2009_01  d_2008_11  2.705e-05  2.770e-05  3.113e-05\n",
      "4  d_2008_12  d_2008_10  3.155e-05  3.168e-05  3.111e-05\n",
      "5  d_2008_11  d_2008_09  3.520e-05  3.637e-05  3.088e-05\n",
      "6  d_2008_10  d_2008_08  3.385e-05  3.568e-05  3.062e-05\n"
     ]
    }
   ],
   "source": [
    "for i in range(len(results)):\n",
    "    for j in range(len(results[0])):\n",
    "        if j>1:\n",
    "            val = str(results[i][j])\n",
    "            results[i][j] = val[:5]+'e-05'\n",
    "column_names = ['month1', 'month2', 'Z/m^2', 'l2_norm^2', 'e^2']\n",
    "df = pd.DataFrame(results, columns=column_names)\n",
    "print(df)"
   ]
  },
  {
   "cell_type": "code",
   "execution_count": 52,
   "metadata": {},
   "outputs": [
    {
     "name": "stdout",
     "output_type": "stream",
     "text": [
      "21981366 26394016\n"
     ]
    }
   ],
   "source": [
    "d_p_full = d_2009_02\n",
    "d_q_full = d_2009_03\n",
    "\n",
    "d_p_multiple = {key:val for key, val in d_p_full.items() if val > 1}\n",
    "d_q_multiple = {key:val for key, val in d_q_full.items() if val > 1}\n",
    "p_total = sum(d_p_multiple.values())\n",
    "q_total = sum(d_q_multiple.values())\n",
    "\n",
    "d_p = {key:val/p_total for key, val in d_p_multiple.items()}\n",
    "d_q = {key:val/q_total for key, val in d_q_multiple.items()}\n",
    "\n",
    "# print(p_total, q_total)"
   ]
  },
  {
   "cell_type": "code",
   "execution_count": 67,
   "metadata": {},
   "outputs": [],
   "source": [
    "d_p_l2norm = lp_norm(d_p, 2)\n",
    "d_q_l2norm = lp_norm(d_q, 2)\n",
    "b = max(d_p_l2norm**2, d_q_l2norm**2)\n",
    "\n",
    "pq_l4norm = lp_distance(d_p, d_q, 4)\n",
    "pq_l1norm = lp_distance(d_p, d_q, 1)\n",
    "\n",
    "# setting error and sample parameters\n",
    "e = pq_l1norm  # set e to be a factor of l1 distance\n",
    "m = (b**0.5*pq_l4norm**2/e**4 + b**0.5/e**2)  # set m to be a constant factor\n",
    "\n",
    "avg_size = (p_total + q_total)//2\n",
    "c = avg_size/(m*1000)\n",
    "m *= c"
   ]
  },
  {
   "cell_type": "code",
   "execution_count": 68,
   "metadata": {},
   "outputs": [],
   "source": [
    "# print(m)\n",
    "s = np.random.poisson(lam=m)\n",
    "S_p = random.choices(list(d_p.keys()), weights=d_p.values(), k=s)\n",
    "S_q = random.choices(list(d_q.keys()), weights=d_q.values(), k=s)\n",
    "\n",
    "S_p_d = list_to_distribution(S_p)\n",
    "S_q_d = list_to_distribution(S_q)\n"
   ]
  },
  {
   "cell_type": "code",
   "execution_count": 37,
   "metadata": {},
   "outputs": [],
   "source": []
  },
  {
   "cell_type": "markdown",
   "metadata": {},
   "source": [
    "<!-- s = np.random.poisson(lam=m)\n",
    "print(s,'hehe')\n",
    "S_p = random.choices(list(d_p.keys()), weights=d_p.values(), k=s)\n",
    "S_q = random.choices(list(d_q.keys()), weights=d_q.values(), k=s) -->"
   ]
  },
  {
   "cell_type": "code",
   "execution_count": 69,
   "metadata": {},
   "outputs": [
    {
     "name": "stdout",
     "output_type": "stream",
     "text": [
      "8158\n"
     ]
    }
   ],
   "source": [
    "Z = 0\n",
    "for i in S_p_d:\n",
    "    if i in S_q_d:\n",
    "        Z += (S_p_d[i]-S_q_d[i])**2-S_p_d[i]-S_q_d[i]\n",
    "    else:\n",
    "        Z += S_p_d[i]**2-S_p_d[i]\n",
    "        \n",
    "for i in S_q_d:\n",
    "    if i not in S_p_d:\n",
    "        Z += S_q_d[i]**2-S_q_d[i]\n",
    "print(Z)"
   ]
  },
  {
   "cell_type": "code",
   "execution_count": 70,
   "metadata": {},
   "outputs": [
    {
     "name": "stdout",
     "output_type": "stream",
     "text": [
      "1.2673654922523615e-05\n",
      "1.3944240910623699e-05\n",
      "2.789616588442419\n"
     ]
    }
   ],
   "source": [
    "d_p_l2norm = lp_distance(d_p, d_q, 2)\n",
    "print(d_p_l2norm**2)\n",
    "print(Z/(m**2))\n",
    "print(e**2)\n",
    "# for i in S_q_d:\n",
    "#     if i in S_p_d and S_q_d[i] > 1 and S_p_d[i]>1:\n",
    "#         print(S_q_d[i], S_p_d[i])\n",
    "\n",
    "# print(S_p)\n",
    "# print(12)"
   ]
  },
  {
   "cell_type": "code",
   "execution_count": null,
   "metadata": {},
   "outputs": [],
   "source": [
    "1.2673654922523615e-05\n",
    "1.3944240910623699e-05\n",
    "2.789616588442419"
   ]
  },
  {
   "cell_type": "code",
   "execution_count": 7,
   "metadata": {},
   "outputs": [],
   "source": [
    "import math\n",
    "\n",
    "def self_pairwise_collisions(arr):\n",
    "    collisions = 0\n",
    "    for i in range(len(arr)-1):\n",
    "        for j in range(i+1, len(arr)):\n",
    "            if arr[i] == arr[j]:\n",
    "                collisions += 1\n",
    "    return collisions\n",
    "\n",
    "\n",
    "def across_list_collisions(arr1, arr2):\n",
    "    collisions = 0\n",
    "    for i in arr1:\n",
    "        for j in arr2:\n",
    "            if i == j:\n",
    "                collisions += 1\n",
    "    return collisions\n",
    "\n",
    "def l2_distance_tester(p, q, m, e, delta):\n",
    "    num_reject = 0 \n",
    "    m = round(m)\n",
    "    rounds = round(math.log(1/delta)) # rounds is O(log(1/delta))\n",
    "    for _ in range(rounds):\n",
    "        F_p = random.choices(list(p.keys()), weights=p.values(), k=m)\n",
    "        F_q = random.choices(list(q.keys()), weights=q.values(), k=m)\n",
    "        r_p = self_pairwise_collisions(F_p)\n",
    "        r_q = self_pairwise_collisions(F_q)\n",
    "        \n",
    "        Q_p = random.choices(list(p.keys()), weights=p.values(), k=m)\n",
    "        Q_q = random.choices(list(q.keys()), weights=q.values(), k=m)\n",
    "        s_pq = across_list_collisions(Q_p, Q_q)\n",
    "        \n",
    "        r = 2*m/(m-1)*(r_p+r_q)\n",
    "        s = 2*s_pq\n",
    "        if r-s > 3*m**2*e**2/4:\n",
    "            num_reject += 1\n",
    "    \n",
    "    if num_reject >= rounds/2:\n",
    "        return 0\n",
    "    return 1\n",
    "\n",
    "def sampling_distribution_prime(p, domain, sampled_set, m):\n",
    "    result = []\n",
    "    for i in range(m):\n",
    "        sample = random.choices(list(p.keys()), weights=p.values(), k=1)[0]\n",
    "        if sample not in sampled_set:\n",
    "            result.append(sample)\n",
    "        else:\n",
    "            result.append(random.sample(domain, 1)[0])\n",
    "    return list_to_distribution(result)"
   ]
  },
  {
   "cell_type": "code",
   "execution_count": 8,
   "metadata": {},
   "outputs": [],
   "source": [
    "def l1_distance_tester(p, q, e, delta, samples = 100):\n",
    "    domain = set(p.keys()).intersection(q.keys())\n",
    "    n = len(domain)\n",
    "    b = (e/n)**(2/3)\n",
    "#     print(n,e,delta)\n",
    "#     m = e**(-8/3)*n**(2/3)*math.log(n/delta) #m is O of this\n",
    "#     print(\"yoyoyo m\", m)\n",
    "#     m = int(m*100000)\n",
    "    m = samples\n",
    "    print(\"m is:\", m)\n",
    "    S_p = random.choices(list(p.keys()), weights=p.values(), k=m)\n",
    "    S_q = random.choices(list(q.keys()), weights=q.values(), k=m)\n",
    "    \n",
    "    S_p_d = list_to_distribution(S_p)\n",
    "    S_q_d = list_to_distribution(S_q)\n",
    "    threshold = (1-e/26)*m*b\n",
    "    for word in list(S_p_d.keys()):\n",
    "        if S_p_d[word] < threshold:\n",
    "            del S_p_d[word]\n",
    "    for word in list(S_q_d.keys()):\n",
    "        if S_q_d[word] < threshold:\n",
    "            del S_q_d[word]\n",
    "    \n",
    "    print(\"hehehehe\")\n",
    "            \n",
    "    m_ = n**(2/3)/e**(8/3) # O of this\n",
    "    e_ = e/(2*n**0.5)\n",
    "    delta_ = delta/2\n",
    "    if len(S_p_d) == 0 and len(S_q_d) == 0:\n",
    "        return l2_distance_tester(p, q, m_, e_, delta_)\n",
    "    \n",
    "    if lp_distance(S_p_d, S_q_d, 1) > e*m/8:\n",
    "        return 0\n",
    "\n",
    "    sampled_set = set(S_p).intersection(set(S_q))\n",
    "    p_prime = sampling_distribution_prime(p, domain, sampled_set, m)\n",
    "    q_prime = sampling_distribution_prime(q, domain, sampled_set, m)\n",
    "    \n",
    "    return l2_distance_tester(p_prime, q_prime, m_, e_, delta_)\n"
   ]
  },
  {
   "cell_type": "code",
   "execution_count": 10,
   "metadata": {},
   "outputs": [],
   "source": [
    "d_p_full = d_2008_11\n",
    "d_q_full = d_2008_12\n",
    "\n",
    "d_p_multiple = {key:val for key, val in d_p_full.items() if val > 1}\n",
    "d_q_multiple = {key:val for key, val in d_q_full.items() if val > 1}\n",
    "p_total = sum(d_p_multiple.values())\n",
    "q_total = sum(d_q_multiple.values())\n",
    "\n",
    "d_p = {key:val/p_total for key, val in d_p_multiple.items()}\n",
    "d_q = {key:val/q_total for key, val in d_q_multiple.items()}\n",
    "\n",
    "l1_distance = lp_distance(d_p, d_q, 1)\n",
    "# print(l1_norm)"
   ]
  },
  {
   "cell_type": "code",
   "execution_count": 11,
   "metadata": {},
   "outputs": [
    {
     "name": "stdout",
     "output_type": "stream",
     "text": [
      "169430\n",
      "1.7711232879509458 0.25453148413836607 1.7711232879509458 419.07973109559765\n"
     ]
    }
   ],
   "source": [
    "delta = 0.1\n",
    "e = l1_distance*250\n",
    "domain = set(d_p.keys()).intersection(d_q.keys())\n",
    "n = len(domain)\n",
    "\n",
    "a=(e**(4/3)/(32*n**(1/3)))\n",
    "b=(e/(4*n**0.5))\n",
    "print(n)\n",
    "print(a,b,max(a,b), e)\n"
   ]
  },
  {
   "cell_type": "code",
   "execution_count": 14,
   "metadata": {},
   "outputs": [
    {
     "name": "stdout",
     "output_type": "stream",
     "text": [
      "m is: 3200\n",
      "hehehehe\n",
      "3200 390.1798982620239\n",
      "m is: 6400\n",
      "hehehehe\n",
      "6400 780.3905648390452\n"
     ]
    }
   ],
   "source": [
    "# print(d_p_full)\n",
    "delta = 0.75\n",
    "# e = l1_norm/2\n",
    "\n",
    "# print(l1_distance_tester(d_p, d_q, e, delta))\n",
    "# count = 0\n",
    "# for i in range(100):\n",
    "#     if i%10==0:\n",
    "#         print(i, count)\n",
    "#     count+=l1_distance_tester(d_p, d_q, e, delta)\n",
    "# print(\"result:\", count)\n",
    "\n",
    "\n",
    "result = {}\n",
    "# m_test = [10, 25, 50, 75, 100, 150, 200, 400, 800, 1600]\n",
    "m_test = [3200, 6400]\n",
    "for m in m_test:\n",
    "#     print(m)\n",
    "    total_time = 0\n",
    "    for i in range(1):\n",
    "        start_time = time.time()\n",
    "        l1_distance_tester(d_p, d_q, e, delta, samples=m)\n",
    "        time_used = time.time() - start_time\n",
    "        total_time += time_used\n",
    "    avg_time = total_time/3\n",
    "    result[m] = avg_time\n",
    "    print(m, avg_time)"
   ]
  },
  {
   "cell_type": "code",
   "execution_count": 13,
   "metadata": {},
   "outputs": [
    {
     "name": "stdout",
     "output_type": "stream",
     "text": [
      "{10: 1.9047253926595051, 25: 3.434788386027018, 50: 6.353319883346558, 75: 10.648356358210245, 100: 12.935736020406088, 150: 18.945610920588177, 200: 27.562667449315388, 400: 50.68171199162801, 800: 104.46039350827535, 1600: 199.97429958979288}\n"
     ]
    }
   ],
   "source": [
    "print(result)"
   ]
  },
  {
   "cell_type": "code",
   "execution_count": null,
   "metadata": {},
   "outputs": [],
   "source": []
  },
  {
   "cell_type": "code",
   "execution_count": null,
   "metadata": {},
   "outputs": [],
   "source": [
    "# S_p = {i:S_p.count(i) for i in np.unique(S_p)}\n",
    "# S_q = {i:S_q.count(i) for i in np.unique(S_q)}\n",
    "\n",
    "# reservoir sampling\n",
    "S_p = []\n",
    "count = 0\n",
    "for phrase in d_p:\n",
    "    for _ in range(len(d_p[phrase])):\n",
    "        if count%10000000 == 0:\n",
    "            print(count)\n",
    "        count += 1\n",
    "        if len(S_p) < s:\n",
    "            S_p.append(word)\n",
    "        else:\n",
    "            pos = random.randrange(0, count) \n",
    "            if pos < s:\n",
    "                S_p[pos] = word\n",
    "print(S_p)\n"
   ]
  },
  {
   "cell_type": "code",
   "execution_count": 38,
   "metadata": {},
   "outputs": [
    {
     "name": "stdout",
     "output_type": "stream",
     "text": [
      "239498 240679\n"
     ]
    }
   ],
   "source": [
    "print(len(S_q_d), len(S_p_d))"
   ]
  },
  {
   "cell_type": "code",
   "execution_count": 59,
   "metadata": {},
   "outputs": [
    {
     "data": {
      "text/plain": [
       "<BarContainer object of 2011696 artists>"
      ]
     },
     "execution_count": 59,
     "metadata": {},
     "output_type": "execute_result"
    },
    {
     "data": {
      "image/png": "[encoded data removed]",
      "text/plain": [
       "<Figure size 432x288 with 1 Axes>"
      ]
     },
     "metadata": {
      "needs_background": "light"
     },
     "output_type": "display_data"
    }
   ],
   "source": [
    "import numpy as np \n",
    "import matplotlib.pyplot as plt\n",
    "\n",
    "phrases = []\n",
    "for x in list(d.values()):\n",
    "    if x>2:\n",
    "        phrases.append(x)\n",
    "# phrases = [x if x>2 for x in list(d.values())]\n",
    "plt.bar([x for x in range(len(phrases))], phrases, color='g')\n"
   ]
  },
  {
   "cell_type": "code",
   "execution_count": null,
   "metadata": {},
   "outputs": [],
   "source": []
  },
  {
   "cell_type": "code",
   "execution_count": null,
   "metadata": {},
   "outputs": [],
   "source": [
    "# import time\n",
    "# start_time = time.time()\n",
    "\n",
    "\n",
    "# # {date:word:count}\n",
    "# d = {}\n",
    "# count = 0\n",
    "# with open('quotes_2009-03.txt', 'r') as file:\n",
    "#     curr_date = None \n",
    "#     for line in file:\n",
    "# #         if count%1000000 == 0:\n",
    "# #             print(count)\n",
    "# #         count+=1\n",
    "#         if line[0] == 'T':\n",
    "#             curr_date = line.split()[1]\n",
    "#         if line[0] == 'Q':\n",
    "#             if curr_date not in d:\n",
    "#                 d[curr_date] = {}\n",
    "#             for word in line.split()[1:]:\n",
    "#                 if word in d[curr_date]:\n",
    "#                     d[curr_date][word] += 1\n",
    "#                 else:\n",
    "#                     d[curr_date][word] = 1\n",
    "                    \n",
    "# print(\"--- %s seconds ---\" % (time.time() - start_time))\n",
    "\n",
    "# import time\n",
    "# start_time = time.time()\n",
    "# d = {}\n",
    "# count = 0\n",
    "# with open('quotes_2009-03.txt', 'r') as file:\n",
    "#     curr_date = None \n",
    "#     for line in file:\n",
    "#         if count%1000000 == 0:\n",
    "#             print(count)\n",
    "#         count+=1\n",
    "#         if line[0] == 'T':\n",
    "#             curr_date = line.split()[1]\n",
    "#         if line[0] == 'Q':\n",
    "#             if curr_date not in d:\n",
    "#                 d[curr_date] = {}\n",
    "#             phrase = line.split('Q')[1].lstrip()\n",
    "# #             print(phrase)\n",
    "# #             import sys\n",
    "# #             sys.exit()\n",
    "#             if phrase in d[curr_date]:\n",
    "#                 d[curr_date][phrase]+=1\n",
    "#             else:\n",
    "#                 d[curr_date][phrase]=1\n",
    "# #             for word in line.split()[1:]:\n",
    "# #                 if word in d[curr_date]:\n",
    "# #                     d[curr_date][word] += 1\n",
    "# #                 else:\n",
    "# #                     d[curr_date][word] = 1\n",
    "# print(\"--- %s seconds ---\" % (time.time() - start_time))"
   ]
  }
 ],
 "metadata": {
  "kernelspec": {
   "display_name": "Python 3",
   "language": "python",
   "name": "python3"
  },
  "language_info": {
   "codemirror_mode": {
    "name": "ipython",
    "version": 3
   },
   "file_extension": ".py",
   "mimetype": "text/x-python",
   "name": "python",
   "nbconvert_exporter": "python",
   "pygments_lexer": "ipython3",
   "version": "3.8.3"
  }
 },
 "nbformat": 4,
 "nbformat_minor": 4
}
